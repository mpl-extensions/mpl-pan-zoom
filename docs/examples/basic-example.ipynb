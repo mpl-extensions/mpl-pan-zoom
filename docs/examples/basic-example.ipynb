{
 "cells": [
  {
   "cell_type": "markdown",
   "id": "cdf469e7-0110-4b75-97d5-69c25aa290f5",
   "metadata": {},
   "source": [
    "# Basic Example\n",
    "\n",
    "\n",
    "You can do normal things like use latex math:\n",
    "$\\frac{\\pi}{2}$\n",
    "\n",
    "## This was a markdown cell!"
   ]
  },
  {
   "cell_type": "code",
   "execution_count": null,
   "id": "4a694f4d-ba0d-4ea4-b15e-db17a2fa8e61",
   "metadata": {},
   "outputs": [],
   "source": [
    "print(\"beep boop\")"
   ]
  }
 ],
 "metadata": {
  "kernelspec": {
   "display_name": "Python 3",
   "language": "python",
   "name": "python3"
  },
  "language_info": {
   "codemirror_mode": {
    "name": "ipython",
    "version": 3
   },
   "file_extension": ".py",
   "mimetype": "text/x-python",
   "name": "python",
   "nbconvert_exporter": "python",
   "pygments_lexer": "ipython3",
   "version": "3.8.6"
  },
  "widgets": {
   "application/vnd.jupyter.widget-state+json": {
    "state": {},
    "version_major": 2,
    "version_minor": 0
   }
  }
 },
 "nbformat": 4,
 "nbformat_minor": 5
}
