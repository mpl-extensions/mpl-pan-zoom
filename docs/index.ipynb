{
 "cells": [
  {
   "cell_type": "markdown",
   "metadata": {},
   "source": [
    "# mpl-pan-zoom\n",
    "\n",
    "A tiny library for enabling scroll to zoom and click to pan for matplotlib\n",
    "\n",
    "## Installation\n",
    "\n",
    "```bash\n",
    "pip install mpl-pan-zoom\n",
    "```"
   ]
  },
  {
   "cell_type": "markdown",
   "metadata": {},
   "source": [
    "## Zooming and Panning"
   ]
  },
  {
   "cell_type": "code",
   "execution_count": null,
   "metadata": {
    "tags": []
   },
   "outputs": [],
   "source": [
    "%matplotlib widget\n",
    "import matplotlib.pyplot as plt\n",
    "\n",
    "from mpl_pan_zoom import MouseButton, PanManager, zoom_factory"
   ]
  },
  {
   "cell_type": "code",
   "execution_count": null,
   "metadata": {
    "tags": []
   },
   "outputs": [],
   "source": [
    "from matplotlib.cbook import get_sample_data"
   ]
  },
  {
   "cell_type": "markdown",
   "metadata": {},
   "source": [
    "## Load a sample image"
   ]
  },
  {
   "cell_type": "code",
   "execution_count": null,
   "metadata": {
    "tags": []
   },
   "outputs": [],
   "source": [
    "with get_sample_data(\"grace_hopper.jpg\") as image_file:\n",
    "    image = plt.imread(image_file)"
   ]
  },
  {
   "cell_type": "markdown",
   "metadata": {},
   "source": [
    "## enable scroll to zoom\n",
    "\n",
    "\n",
    "To use just pass the axis object to the zoom factory function. Here I also demonstrate using {func}`~matplotlib.pyplot.ioff` as a context manager, so we can control where the figure canvas shows up."
   ]
  },
  {
   "cell_type": "code",
   "execution_count": null,
   "metadata": {
    "tags": []
   },
   "outputs": [],
   "source": [
    "fig, ax = plt.subplots(constrained_layout=True)\n",
    "ax.imshow(image)\n",
    "ax.axis(\"off\")\n",
    "disconnect_zoom = zoom_factory(ax)"
   ]
  },
  {
   "cell_type": "markdown",
   "metadata": {},
   "source": [
    "## Scrolling and panning\n",
    "\n",
    "You can enable the click and drag behvior to be panning without having to selec the button on the toolbar using {class}`.PanManager` \n",
    "\n",
    "Chose which mouse button is used with the `button` argument. \n",
    "\n",
    "```{note}\n",
    "You must assign the PanManager to a variable otherwise it will be garbage collected and will not work.\n",
    "```"
   ]
  },
  {
   "cell_type": "code",
   "execution_count": null,
   "metadata": {
    "tags": [
     "remove-output"
    ]
   },
   "outputs": [],
   "source": [
    "pan_manager = PanManager(fig, MouseButton.MIDDLE)\n",
    "display(fig.canvas)"
   ]
  },
  {
   "cell_type": "markdown",
   "metadata": {},
   "source": [
    "It's also possible to enable and disable the `PanManager`:"
   ]
  },
  {
   "cell_type": "code",
   "execution_count": null,
   "metadata": {
    "tags": []
   },
   "outputs": [],
   "source": "pan_manager.disable()\npan_manager.enable()"
  },
  {
   "cell_type": "markdown",
   "metadata": {},
   "source": [
    "```{toctree}\n",
    ":maxdepth: 2\n",
    "\n",
    "API <api/mpl_pan_zoom>\n",
    "contributing\n",
    "```"
   ]
  }
 ],
 "metadata": {
  "kernelspec": {
   "display_name": "Python 3 (ipykernel)",
   "language": "python",
   "name": "python3"
  },
  "language_info": {
   "codemirror_mode": {
    "name": "ipython",
    "version": 3
   },
   "file_extension": ".py",
   "mimetype": "text/x-python",
   "name": "python",
   "nbconvert_exporter": "python",
   "pygments_lexer": "ipython3",
   "version": "3.10.4"
  },
  "widgets": {
   "application/vnd.jupyter.widget-state+json": {
    "state": {},
    "version_major": 2,
    "version_minor": 0
   }
  }
 },
 "nbformat": 4,
 "nbformat_minor": 4
}
